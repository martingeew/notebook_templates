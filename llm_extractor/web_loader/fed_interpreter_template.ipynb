{
  "cells": [
    {
      "cell_type": "markdown",
      "metadata": {},
      "source": [
        "## How to use a Large Language Models (LLMs) to analyse text and create novel datasets."
      ]
    },
    {
      "cell_type": "markdown",
      "metadata": {},
      "source": [
        "Last updated: 2024-05-16"
      ]
    },
    {
      "cell_type": "markdown",
      "metadata": {},
      "source": [
        "See this blog post on Autonomous Econ for a deatiled wlkthrough of this notebook: https://autonomousecon.substack.com/p/how-anyone-can-use-ai-to-create-novel"
      ]
    },
    {
      "cell_type": "markdown",
      "metadata": {
        "id": "xng8FpT7-rGt"
      },
      "source": [
        "### Install dependencies"
      ]
    },
    {
      "cell_type": "code",
      "execution_count": null,
      "metadata": {
        "id": "A33pYrlu-WUx"
      },
      "outputs": [],
      "source": [
        "pip install openai"
      ]
    },
    {
      "cell_type": "code",
      "execution_count": null,
      "metadata": {
        "id": "3AR8C7hf-mlW"
      },
      "outputs": [],
      "source": [
        "pip install langchain"
      ]
    },
    {
      "cell_type": "code",
      "execution_count": null,
      "metadata": {
        "id": "S6J0DYEW_6j-"
      },
      "outputs": [],
      "source": [
        "pip install -U langchain-openai"
      ]
    },
    {
      "cell_type": "markdown",
      "metadata": {
        "id": "ve1tHbhZ-yi-"
      },
      "source": [
        "### Import libraries"
      ]
    },
    {
      "cell_type": "code",
      "execution_count": 7,
      "metadata": {
        "id": "IQ5VH4kt-pR7"
      },
      "outputs": [],
      "source": [
        "from langchain_openai import ChatOpenAI\n",
        "from langchain.document_loaders import WebBaseLoader\n",
        "from langchain.output_parsers import ResponseSchema\n",
        "from langchain.output_parsers import StructuredOutputParser\n",
        "from langchain.prompts import ChatPromptTemplate\n",
        "import os\n",
        "import json\n",
        "import pandas as pd"
      ]
    },
    {
      "cell_type": "markdown",
      "metadata": {
        "id": "666RKnGL_Os9"
      },
      "source": [
        "### Set enviornment variables and model"
      ]
    },
    {
      "cell_type": "code",
      "execution_count": 8,
      "metadata": {
        "id": "iHgs-nky_Gp3"
      },
      "outputs": [],
      "source": [
        "# Set OpenAI API key\n",
        "os.environ[\"OPENAI_API_KEY\"] = \"<YOURAPIKEY>\""
      ]
    },
    {
      "cell_type": "code",
      "execution_count": 9,
      "metadata": {
        "id": "t1J1wCA3_Zuq"
      },
      "outputs": [],
      "source": [
        "# set model and model params\n",
        "model=\"gpt-3.5-turbo-16k\"\n",
        "chat = ChatOpenAI(temperature=0.0, model_name=model)"
      ]
    },
    {
      "cell_type": "markdown",
      "metadata": {
        "id": "ffCGsYPwALKD"
      },
      "source": [
        "### Choose the web links to load into your document list"
      ]
    },
    {
      "cell_type": "code",
      "execution_count": 10,
      "metadata": {
        "id": "2iaAEKAK_hZp"
      },
      "outputs": [],
      "source": [
        "# Loading multiple web links\n",
        "urls = [\n",
        "\"https://www.federalreserve.gov/newsevents/pressreleases/monetary20240320a.htm\",\n",
        "\"https://www.federalreserve.gov/newsevents/pressreleases/monetary20230201a.htm\",\n",
        "\"https://www.federalreserve.gov/newsevents/pressreleases/monetary20220504a.htm\",\n",
        "\"https://www.federalreserve.gov/newsevents/pressreleases/monetary20220316a.htm\",\n",
        "\"https://www.federalreserve.gov/newsevents/pressreleases/monetary20200315a.htm\",\n",
        "]\n",
        "loader = WebBaseLoader(web_path=urls)\n",
        "\n",
        "docs = loader.load()"
      ]
    },
    {
      "cell_type": "markdown",
      "metadata": {
        "id": "Jvuw35pMAlUE"
      },
      "source": [
        "Create the prompt template"
      ]
    },
    {
      "cell_type": "code",
      "execution_count": 23,
      "metadata": {
        "colab": {
          "base_uri": "https://localhost:8080/"
        },
        "id": "HSyAEQiEAfrf",
        "outputId": "943cf99b-701a-498d-a816-5a564fd82fd1"
      },
      "outputs": [
        {
          "name": "stdout",
          "output_type": "stream",
          "text": [
            "The output should be a markdown code snippet formatted in the following schema, including the leading and trailing \"```json\" and \"```\":\n",
            "\n",
            "```json\n",
            "{\n",
            "\t\"fomc_date\": string  // date of fomc announcement\n",
            "\t\"fed_funds_target_range\": string  // target range for the federal funds rate\n",
            "\t\"rate_decision\": string  // decision for the federal funds rate\n",
            "\t\"policy_stance\": string  // policy stance of statement ranging from -1 (very dovish) to 1 (very hawkish)\n",
            "}\n",
            "```\n"
          ]
        }
      ],
      "source": [
        "\n",
        "# create the instructions that will convert the LLM response into a JSON format\n",
        "\n",
        "date_schema = ResponseSchema(name=\"fomc_date\", description=\"date of fomc announcement\")\n",
        "\n",
        "target_range_schema = ResponseSchema(\n",
        "    name=\"fed_funds_target_range\", description=\"target range for the federal funds rate\"\n",
        ")\n",
        "\n",
        "decision_schema = ResponseSchema(\n",
        "    name=\"rate_decision\", description=\"decision for the federal funds rate\"\n",
        ")\n",
        "\n",
        "policy_stance_schema = ResponseSchema(\n",
        "    name=\"policy_stance\", description=\"policy stance of statement ranging from -1 (very dovish) to 1 (very hawkish)\"\n",
        ")\n",
        "\n",
        "\n",
        "response_schemas = [\n",
        "    date_schema,\n",
        "    target_range_schema,\n",
        "    decision_schema,\n",
        "    policy_stance_schema,\n",
        "]\n",
        "\n",
        "output_parser = StructuredOutputParser.from_response_schemas(response_schemas)\n",
        "\n",
        "format_instructions = output_parser.get_format_instructions()\n",
        "\n",
        "print(format_instructions)"
      ]
    },
    {
      "cell_type": "code",
      "execution_count": 24,
      "metadata": {
        "id": "J6hsdBQSAp7-"
      },
      "outputs": [],
      "source": [
        "# Create the extraction instructions for the prompt template\n",
        "\n",
        "extract_template = \"\"\"\\\n",
        "For the following text, extract the following information:\n",
        "\n",
        "date_schema: date of fomc announcement. Use the following format: dd/mm/YYYY.\n",
        "\n",
        "target_range_schema: the target range for the federal funds rate that the Committee decided on. Record the range as values with 2 decimal places.\n",
        "\n",
        "decision_schema: decision by the FOMC for the federal funds rate. Classify as either 'raise','maintain' or 'lower'.\n",
        "\n",
        "policy_stance_schema: classify the text with the following values depending on how dovish or hawkish the overall message was in the FOMC statement.\n",
        "-1: Strongly expresses a belief that the economy may be growing too slowly and/or inflation is too low and may need stimulus through monetary policy.\n",
        "-0.5: Overall message expresses a belief that the economy may be growing too slowly and/or inflation is too low and may need stimulus through monetary policy.\n",
        "0: Expresses neither a hawkish nor dovish view and the Fed is on track to achieve its employment and inflation goals.\n",
        "0.5: Overall message expresses a belief that the economy is growing too quickly and/or inflation is too high and may need to be slowed down through monetary policy.\n",
        "1: Strongly expresses a belief that the economy is growing too quickly and/or inflation is too high and may need to be slowed down through monetary policy.\n",
        "\n",
        "text: {text}\n",
        "\n",
        "{format_instructions}\n",
        "\"\"\""
      ]
    },
    {
      "cell_type": "code",
      "execution_count": 25,
      "metadata": {
        "id": "UPfIH2mdA_-5"
      },
      "outputs": [],
      "source": [
        "\n",
        "prompt = ChatPromptTemplate.from_template(template=extract_template)\n"
      ]
    },
    {
      "cell_type": "markdown",
      "metadata": {
        "id": "hPz2X_2DBH4s"
      },
      "source": [
        "### Run your prompt over every document in your document list"
      ]
    },
    {
      "cell_type": "code",
      "execution_count": 26,
      "metadata": {
        "id": "nrFYKgdMBEBt"
      },
      "outputs": [],
      "source": [
        "# Generate a response for each document based on the prompt template and save it into a list\n",
        "output_list = []\n",
        "for i in range(len(docs)):\n",
        "    doc = docs[i]\n",
        "    messages = prompt.format_messages(text=doc, format_instructions=format_instructions)\n",
        "    response = chat(messages)\n",
        "    parsed_response = output_parser.parse(response.content)\n",
        "    output_list.append(parsed_response)"
      ]
    },
    {
      "cell_type": "code",
      "execution_count": 27,
      "metadata": {
        "colab": {
          "base_uri": "https://localhost:8080/"
        },
        "id": "V_G9UOtoCt6i",
        "outputId": "4a9d0c66-ecb7-4729-e5b9-b18c01c31f4c"
      },
      "outputs": [
        {
          "data": {
            "text/plain": [
              "[{'fomc_date': '20/03/2024',\n",
              "  'fed_funds_target_range': '5.25-5.50',\n",
              "  'rate_decision': 'maintain',\n",
              "  'policy_stance': '0'},\n",
              " {'fomc_date': '01/02/2023',\n",
              "  'fed_funds_target_range': '4.50-4.75',\n",
              "  'rate_decision': 'raise',\n",
              "  'policy_stance': '0.5'},\n",
              " {'fomc_date': '04/05/2022',\n",
              "  'fed_funds_target_range': '0.75 - 1.00',\n",
              "  'rate_decision': 'raise',\n",
              "  'policy_stance': '0.5'},\n",
              " {'fomc_date': '16/03/2022',\n",
              "  'fed_funds_target_range': '0.25 - 0.5',\n",
              "  'rate_decision': 'raise',\n",
              "  'policy_stance': '0.5'},\n",
              " {'fomc_date': '15/03/2020',\n",
              "  'fed_funds_target_range': '0.00-0.25',\n",
              "  'rate_decision': 'lower',\n",
              "  'policy_stance': '-1'}]"
            ]
          },
          "execution_count": 27,
          "metadata": {},
          "output_type": "execute_result"
        }
      ],
      "source": [
        "# JSON list\n",
        "output_list\n"
      ]
    },
    {
      "cell_type": "code",
      "execution_count": 28,
      "metadata": {
        "id": "fbutDVgfBREJ"
      },
      "outputs": [],
      "source": [
        "# Convert your json list into a pandas DataFrame\n",
        "json_list = json.dumps(output_list)\n",
        "df = pd.read_json(json_list)\n"
      ]
    },
    {
      "cell_type": "code",
      "execution_count": 29,
      "metadata": {
        "colab": {
          "base_uri": "https://localhost:8080/",
          "height": 206
        },
        "id": "fJN8XDC2BuHH",
        "outputId": "1929969c-f1d6-4eac-f561-cd01222ed743"
      },
      "outputs": [
        {
          "data": {
            "application/vnd.google.colaboratory.intrinsic+json": {
              "summary": "{\n  \"name\": \"df\",\n  \"rows\": 5,\n  \"fields\": [\n    {\n      \"column\": \"fomc_date\",\n      \"properties\": {\n        \"dtype\": \"object\",\n        \"num_unique_values\": 5,\n        \"samples\": [\n          \"01/02/2023\",\n          \"15/03/2020\",\n          \"04/05/2022\"\n        ],\n        \"semantic_type\": \"\",\n        \"description\": \"\"\n      }\n    },\n    {\n      \"column\": \"fed_funds_target_range\",\n      \"properties\": {\n        \"dtype\": \"string\",\n        \"num_unique_values\": 5,\n        \"samples\": [\n          \"4.50-4.75\",\n          \"0.00-0.25\",\n          \"0.75 - 1.00\"\n        ],\n        \"semantic_type\": \"\",\n        \"description\": \"\"\n      }\n    },\n    {\n      \"column\": \"rate_decision\",\n      \"properties\": {\n        \"dtype\": \"string\",\n        \"num_unique_values\": 3,\n        \"samples\": [\n          \"maintain\",\n          \"raise\",\n          \"lower\"\n        ],\n        \"semantic_type\": \"\",\n        \"description\": \"\"\n      }\n    },\n    {\n      \"column\": \"policy_stance\",\n      \"properties\": {\n        \"dtype\": \"number\",\n        \"std\": 0.6519202405202649,\n        \"min\": -1.0,\n        \"max\": 0.5,\n        \"num_unique_values\": 3,\n        \"samples\": [\n          0.0,\n          0.5,\n          -1.0\n        ],\n        \"semantic_type\": \"\",\n        \"description\": \"\"\n      }\n    }\n  ]\n}",
              "type": "dataframe",
              "variable_name": "df"
            },
            "text/html": [
              "\n",
              "  <div id=\"df-a799f699-6ad3-4002-8f80-9fb2137d5274\" class=\"colab-df-container\">\n",
              "    <div>\n",
              "<style scoped>\n",
              "    .dataframe tbody tr th:only-of-type {\n",
              "        vertical-align: middle;\n",
              "    }\n",
              "\n",
              "    .dataframe tbody tr th {\n",
              "        vertical-align: top;\n",
              "    }\n",
              "\n",
              "    .dataframe thead th {\n",
              "        text-align: right;\n",
              "    }\n",
              "</style>\n",
              "<table border=\"1\" class=\"dataframe\">\n",
              "  <thead>\n",
              "    <tr style=\"text-align: right;\">\n",
              "      <th></th>\n",
              "      <th>fomc_date</th>\n",
              "      <th>fed_funds_target_range</th>\n",
              "      <th>rate_decision</th>\n",
              "      <th>policy_stance</th>\n",
              "    </tr>\n",
              "  </thead>\n",
              "  <tbody>\n",
              "    <tr>\n",
              "      <th>0</th>\n",
              "      <td>20/03/2024</td>\n",
              "      <td>5.25-5.50</td>\n",
              "      <td>maintain</td>\n",
              "      <td>0.0</td>\n",
              "    </tr>\n",
              "    <tr>\n",
              "      <th>1</th>\n",
              "      <td>01/02/2023</td>\n",
              "      <td>4.50-4.75</td>\n",
              "      <td>raise</td>\n",
              "      <td>0.5</td>\n",
              "    </tr>\n",
              "    <tr>\n",
              "      <th>2</th>\n",
              "      <td>04/05/2022</td>\n",
              "      <td>0.75 - 1.00</td>\n",
              "      <td>raise</td>\n",
              "      <td>0.5</td>\n",
              "    </tr>\n",
              "    <tr>\n",
              "      <th>3</th>\n",
              "      <td>16/03/2022</td>\n",
              "      <td>0.25 - 0.5</td>\n",
              "      <td>raise</td>\n",
              "      <td>0.5</td>\n",
              "    </tr>\n",
              "    <tr>\n",
              "      <th>4</th>\n",
              "      <td>15/03/2020</td>\n",
              "      <td>0.00-0.25</td>\n",
              "      <td>lower</td>\n",
              "      <td>-1.0</td>\n",
              "    </tr>\n",
              "  </tbody>\n",
              "</table>\n",
              "</div>\n",
              "    <div class=\"colab-df-buttons\">\n",
              "\n",
              "  <div class=\"colab-df-container\">\n",
              "    <button class=\"colab-df-convert\" onclick=\"convertToInteractive('df-a799f699-6ad3-4002-8f80-9fb2137d5274')\"\n",
              "            title=\"Convert this dataframe to an interactive table.\"\n",
              "            style=\"display:none;\">\n",
              "\n",
              "  <svg xmlns=\"http://www.w3.org/2000/svg\" height=\"24px\" viewBox=\"0 -960 960 960\">\n",
              "    <path d=\"M120-120v-720h720v720H120Zm60-500h600v-160H180v160Zm220 220h160v-160H400v160Zm0 220h160v-160H400v160ZM180-400h160v-160H180v160Zm440 0h160v-160H620v160ZM180-180h160v-160H180v160Zm440 0h160v-160H620v160Z\"/>\n",
              "  </svg>\n",
              "    </button>\n",
              "\n",
              "  <style>\n",
              "    .colab-df-container {\n",
              "      display:flex;\n",
              "      gap: 12px;\n",
              "    }\n",
              "\n",
              "    .colab-df-convert {\n",
              "      background-color: #E8F0FE;\n",
              "      border: none;\n",
              "      border-radius: 50%;\n",
              "      cursor: pointer;\n",
              "      display: none;\n",
              "      fill: #1967D2;\n",
              "      height: 32px;\n",
              "      padding: 0 0 0 0;\n",
              "      width: 32px;\n",
              "    }\n",
              "\n",
              "    .colab-df-convert:hover {\n",
              "      background-color: #E2EBFA;\n",
              "      box-shadow: 0px 1px 2px rgba(60, 64, 67, 0.3), 0px 1px 3px 1px rgba(60, 64, 67, 0.15);\n",
              "      fill: #174EA6;\n",
              "    }\n",
              "\n",
              "    .colab-df-buttons div {\n",
              "      margin-bottom: 4px;\n",
              "    }\n",
              "\n",
              "    [theme=dark] .colab-df-convert {\n",
              "      background-color: #3B4455;\n",
              "      fill: #D2E3FC;\n",
              "    }\n",
              "\n",
              "    [theme=dark] .colab-df-convert:hover {\n",
              "      background-color: #434B5C;\n",
              "      box-shadow: 0px 1px 3px 1px rgba(0, 0, 0, 0.15);\n",
              "      filter: drop-shadow(0px 1px 2px rgba(0, 0, 0, 0.3));\n",
              "      fill: #FFFFFF;\n",
              "    }\n",
              "  </style>\n",
              "\n",
              "    <script>\n",
              "      const buttonEl =\n",
              "        document.querySelector('#df-a799f699-6ad3-4002-8f80-9fb2137d5274 button.colab-df-convert');\n",
              "      buttonEl.style.display =\n",
              "        google.colab.kernel.accessAllowed ? 'block' : 'none';\n",
              "\n",
              "      async function convertToInteractive(key) {\n",
              "        const element = document.querySelector('#df-a799f699-6ad3-4002-8f80-9fb2137d5274');\n",
              "        const dataTable =\n",
              "          await google.colab.kernel.invokeFunction('convertToInteractive',\n",
              "                                                    [key], {});\n",
              "        if (!dataTable) return;\n",
              "\n",
              "        const docLinkHtml = 'Like what you see? Visit the ' +\n",
              "          '<a target=\"_blank\" href=https://colab.research.google.com/notebooks/data_table.ipynb>data table notebook</a>'\n",
              "          + ' to learn more about interactive tables.';\n",
              "        element.innerHTML = '';\n",
              "        dataTable['output_type'] = 'display_data';\n",
              "        await google.colab.output.renderOutput(dataTable, element);\n",
              "        const docLink = document.createElement('div');\n",
              "        docLink.innerHTML = docLinkHtml;\n",
              "        element.appendChild(docLink);\n",
              "      }\n",
              "    </script>\n",
              "  </div>\n",
              "\n",
              "\n",
              "<div id=\"df-2ea25db5-2ae4-4f44-ae9e-2be490e252c7\">\n",
              "  <button class=\"colab-df-quickchart\" onclick=\"quickchart('df-2ea25db5-2ae4-4f44-ae9e-2be490e252c7')\"\n",
              "            title=\"Suggest charts\"\n",
              "            style=\"display:none;\">\n",
              "\n",
              "<svg xmlns=\"http://www.w3.org/2000/svg\" height=\"24px\"viewBox=\"0 0 24 24\"\n",
              "     width=\"24px\">\n",
              "    <g>\n",
              "        <path d=\"M19 3H5c-1.1 0-2 .9-2 2v14c0 1.1.9 2 2 2h14c1.1 0 2-.9 2-2V5c0-1.1-.9-2-2-2zM9 17H7v-7h2v7zm4 0h-2V7h2v10zm4 0h-2v-4h2v4z\"/>\n",
              "    </g>\n",
              "</svg>\n",
              "  </button>\n",
              "\n",
              "<style>\n",
              "  .colab-df-quickchart {\n",
              "      --bg-color: #E8F0FE;\n",
              "      --fill-color: #1967D2;\n",
              "      --hover-bg-color: #E2EBFA;\n",
              "      --hover-fill-color: #174EA6;\n",
              "      --disabled-fill-color: #AAA;\n",
              "      --disabled-bg-color: #DDD;\n",
              "  }\n",
              "\n",
              "  [theme=dark] .colab-df-quickchart {\n",
              "      --bg-color: #3B4455;\n",
              "      --fill-color: #D2E3FC;\n",
              "      --hover-bg-color: #434B5C;\n",
              "      --hover-fill-color: #FFFFFF;\n",
              "      --disabled-bg-color: #3B4455;\n",
              "      --disabled-fill-color: #666;\n",
              "  }\n",
              "\n",
              "  .colab-df-quickchart {\n",
              "    background-color: var(--bg-color);\n",
              "    border: none;\n",
              "    border-radius: 50%;\n",
              "    cursor: pointer;\n",
              "    display: none;\n",
              "    fill: var(--fill-color);\n",
              "    height: 32px;\n",
              "    padding: 0;\n",
              "    width: 32px;\n",
              "  }\n",
              "\n",
              "  .colab-df-quickchart:hover {\n",
              "    background-color: var(--hover-bg-color);\n",
              "    box-shadow: 0 1px 2px rgba(60, 64, 67, 0.3), 0 1px 3px 1px rgba(60, 64, 67, 0.15);\n",
              "    fill: var(--button-hover-fill-color);\n",
              "  }\n",
              "\n",
              "  .colab-df-quickchart-complete:disabled,\n",
              "  .colab-df-quickchart-complete:disabled:hover {\n",
              "    background-color: var(--disabled-bg-color);\n",
              "    fill: var(--disabled-fill-color);\n",
              "    box-shadow: none;\n",
              "  }\n",
              "\n",
              "  .colab-df-spinner {\n",
              "    border: 2px solid var(--fill-color);\n",
              "    border-color: transparent;\n",
              "    border-bottom-color: var(--fill-color);\n",
              "    animation:\n",
              "      spin 1s steps(1) infinite;\n",
              "  }\n",
              "\n",
              "  @keyframes spin {\n",
              "    0% {\n",
              "      border-color: transparent;\n",
              "      border-bottom-color: var(--fill-color);\n",
              "      border-left-color: var(--fill-color);\n",
              "    }\n",
              "    20% {\n",
              "      border-color: transparent;\n",
              "      border-left-color: var(--fill-color);\n",
              "      border-top-color: var(--fill-color);\n",
              "    }\n",
              "    30% {\n",
              "      border-color: transparent;\n",
              "      border-left-color: var(--fill-color);\n",
              "      border-top-color: var(--fill-color);\n",
              "      border-right-color: var(--fill-color);\n",
              "    }\n",
              "    40% {\n",
              "      border-color: transparent;\n",
              "      border-right-color: var(--fill-color);\n",
              "      border-top-color: var(--fill-color);\n",
              "    }\n",
              "    60% {\n",
              "      border-color: transparent;\n",
              "      border-right-color: var(--fill-color);\n",
              "    }\n",
              "    80% {\n",
              "      border-color: transparent;\n",
              "      border-right-color: var(--fill-color);\n",
              "      border-bottom-color: var(--fill-color);\n",
              "    }\n",
              "    90% {\n",
              "      border-color: transparent;\n",
              "      border-bottom-color: var(--fill-color);\n",
              "    }\n",
              "  }\n",
              "</style>\n",
              "\n",
              "  <script>\n",
              "    async function quickchart(key) {\n",
              "      const quickchartButtonEl =\n",
              "        document.querySelector('#' + key + ' button');\n",
              "      quickchartButtonEl.disabled = true;  // To prevent multiple clicks.\n",
              "      quickchartButtonEl.classList.add('colab-df-spinner');\n",
              "      try {\n",
              "        const charts = await google.colab.kernel.invokeFunction(\n",
              "            'suggestCharts', [key], {});\n",
              "      } catch (error) {\n",
              "        console.error('Error during call to suggestCharts:', error);\n",
              "      }\n",
              "      quickchartButtonEl.classList.remove('colab-df-spinner');\n",
              "      quickchartButtonEl.classList.add('colab-df-quickchart-complete');\n",
              "    }\n",
              "    (() => {\n",
              "      let quickchartButtonEl =\n",
              "        document.querySelector('#df-2ea25db5-2ae4-4f44-ae9e-2be490e252c7 button');\n",
              "      quickchartButtonEl.style.display =\n",
              "        google.colab.kernel.accessAllowed ? 'block' : 'none';\n",
              "    })();\n",
              "  </script>\n",
              "</div>\n",
              "    </div>\n",
              "  </div>\n"
            ],
            "text/plain": [
              "    fomc_date fed_funds_target_range rate_decision  policy_stance\n",
              "0  20/03/2024              5.25-5.50      maintain            0.0\n",
              "1  01/02/2023              4.50-4.75         raise            0.5\n",
              "2  04/05/2022            0.75 - 1.00         raise            0.5\n",
              "3  16/03/2022             0.25 - 0.5         raise            0.5\n",
              "4  15/03/2020              0.00-0.25         lower           -1.0"
            ]
          },
          "execution_count": 29,
          "metadata": {},
          "output_type": "execute_result"
        }
      ],
      "source": [
        "# The final output\n",
        "df"
      ]
    },
    {
      "cell_type": "code",
      "execution_count": 20,
      "metadata": {
        "id": "USSBazPDBurR"
      },
      "outputs": [],
      "source": [
        "# save the structured df to a csv file\n",
        "df.to_csv(\"fomc_sample.csv\", index=False)"
      ]
    }
  ],
  "metadata": {
    "colab": {
      "provenance": [],
      "toc_visible": true
    },
    "kernelspec": {
      "display_name": "Python 3",
      "name": "python3"
    },
    "language_info": {
      "name": "python"
    }
  },
  "nbformat": 4,
  "nbformat_minor": 0
}
